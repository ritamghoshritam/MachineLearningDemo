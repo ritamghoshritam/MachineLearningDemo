{
  "nbformat": 4,
  "nbformat_minor": 0,
  "metadata": {
    "colab": {
      "name": "WeatherPrediction2.ipynb",
      "provenance": [],
      "collapsed_sections": [],
      "include_colab_link": true
    },
    "kernelspec": {
      "name": "python3",
      "display_name": "Python 3"
    }
  },
  "cells": [
    {
      "cell_type": "markdown",
      "metadata": {
        "id": "view-in-github",
        "colab_type": "text"
      },
      "source": [
        "<a href=\"https://colab.research.google.com/github/ritamghoshritam/MachineLearningDemo/blob/main/WeatherPrediction2.ipynb\" target=\"_parent\"><img src=\"https://colab.research.google.com/assets/colab-badge.svg\" alt=\"Open In Colab\"/></a>"
      ]
    },
    {
      "cell_type": "code",
      "metadata": {
        "id": "MCE2uZSkKL2X"
      },
      "source": [
        "#Run only once\r\n",
        "!pip install -U -q PyDrive\r\n",
        "from pydrive.auth import GoogleAuth\r\n",
        "from pydrive.drive import GoogleDrive\r\n",
        "from google.colab import auth\r\n",
        "from oauth2client.client import GoogleCredentials"
      ],
      "execution_count": null,
      "outputs": []
    },
    {
      "cell_type": "code",
      "metadata": {
        "id": "Mcs8DQNrKNgC"
      },
      "source": [
        "#Run only once\r\n",
        "auth.authenticate_user()\r\n",
        "gauth = GoogleAuth()\r\n",
        "gauth.credentials = GoogleCredentials.get_application_default()\r\n",
        "drive = GoogleDrive(gauth)\r\n"
      ],
      "execution_count": null,
      "outputs": []
    },
    {
      "cell_type": "code",
      "metadata": {
        "id": "_PcgUh1TKQ1W"
      },
      "source": [
        "#Run only once\r\n",
        "fileDownloaded = drive.CreateFile({'id':'1d79jf8vv1UlBPV5s7Mf3QS2LVKPtEisR'})"
      ],
      "execution_count": null,
      "outputs": []
    },
    {
      "cell_type": "code",
      "metadata": {
        "id": "M9oXtqXZKeOb"
      },
      "source": [
        "#Run only once\r\n",
        "fileDownloaded.GetContentFile('weather1.csv')"
      ],
      "execution_count": null,
      "outputs": []
    },
    {
      "cell_type": "code",
      "metadata": {
        "id": "wgMWW6IlKkHS"
      },
      "source": [
        "import pandas as pd\r\n",
        "import numpy as np\r\n",
        "import matplotlib.pyplot as plt\r\n",
        "import seaborn\r\n",
        "from sklearn.model_selection import train_test_split\r\n",
        "from sklearn.linear_model import LinearRegression\r\n",
        "from sklearn import metrics"
      ],
      "execution_count": null,
      "outputs": []
    },
    {
      "cell_type": "code",
      "metadata": {
        "colab": {
          "base_uri": "https://localhost:8080/"
        },
        "id": "qC_gVmVkM2J8",
        "outputId": "1b7cea73-c1f1-4caf-8290-e106a3a44090"
      },
      "source": [
        "dataset= pd.read_csv('weather1.csv')\r\n",
        "print(dataset.shape)"
      ],
      "execution_count": null,
      "outputs": [
        {
          "output_type": "stream",
          "text": [
            "(366, 22)\n"
          ],
          "name": "stdout"
        }
      ]
    },
    {
      "cell_type": "code",
      "metadata": {
        "colab": {
          "base_uri": "https://localhost:8080/"
        },
        "id": "HWHp-iAZclF9",
        "outputId": "e4abecc2-f064-474f-977e-9a816db012fa"
      },
      "source": [
        "print(dataset.head)"
      ],
      "execution_count": null,
      "outputs": [
        {
          "output_type": "stream",
          "text": [
            "<bound method NDFrame.head of      MinTemp  MaxTemp  Rainfall  ...  RainToday  RISK_MM RainTomorrow\n",
            "0        8.0     24.3       0.0  ...         No      3.6          Yes\n",
            "1       14.0     26.9       3.6  ...        Yes      3.6          Yes\n",
            "2       13.7     23.4       3.6  ...        Yes     39.8          Yes\n",
            "3       13.3     15.5      39.8  ...        Yes      2.8          Yes\n",
            "4        7.6     16.1       2.8  ...        Yes      0.0           No\n",
            "..       ...      ...       ...  ...        ...      ...          ...\n",
            "361      9.0     30.7       0.0  ...         No      0.0           No\n",
            "362      7.1     28.4       0.0  ...         No      0.0           No\n",
            "363     12.5     19.9       0.0  ...         No      0.0           No\n",
            "364     12.5     26.9       0.0  ...         No      0.0           No\n",
            "365     12.3     30.2       0.0  ...         No      0.0           No\n",
            "\n",
            "[366 rows x 22 columns]>\n"
          ],
          "name": "stdout"
        }
      ]
    },
    {
      "cell_type": "code",
      "metadata": {
        "colab": {
          "base_uri": "https://localhost:8080/"
        },
        "id": "iCSyQMP5M9QU",
        "outputId": "a9b0208b-06d6-4d96-9bb6-f0db4b4f6964"
      },
      "source": [
        "print(dataset.describe())"
      ],
      "execution_count": null,
      "outputs": [
        {
          "output_type": "stream",
          "text": [
            "          MinTemp     MaxTemp    Rainfall  ...     Temp9am     Temp3pm     RISK_MM\n",
            "count  366.000000  366.000000  366.000000  ...  366.000000  366.000000  366.000000\n",
            "mean     7.265574   20.550273    1.428415  ...   12.358470   19.230874    1.428415\n",
            "std      6.025800    6.690516    4.225800  ...    5.630832    6.640346    4.225800\n",
            "min     -5.300000    7.600000    0.000000  ...    0.100000    5.100000    0.000000\n",
            "25%      2.300000   15.025000    0.000000  ...    7.625000   14.150000    0.000000\n",
            "50%      7.450000   19.650000    0.000000  ...   12.550000   18.550000    0.000000\n",
            "75%     12.500000   25.500000    0.200000  ...   17.000000   24.000000    0.200000\n",
            "max     20.900000   35.800000   39.800000  ...   24.700000   34.500000   39.800000\n",
            "\n",
            "[8 rows x 17 columns]\n"
          ],
          "name": "stdout"
        }
      ]
    },
    {
      "cell_type": "code",
      "metadata": {
        "colab": {
          "base_uri": "https://localhost:8080/",
          "height": 295
        },
        "id": "MSp0s0j2M_b5",
        "outputId": "2d987461-073b-437d-a93e-00f79ef3c991"
      },
      "source": [
        "dataset.plot(x='MinTemp', y='MaxTemp' , style='o')\r\n",
        "plt.title('min vs max')\r\n",
        "plt.xlabel('mintemp')\r\n",
        "plt.ylabel('maxtemp')\r\n",
        "plt.show()"
      ],
      "execution_count": null,
      "outputs": [
        {
          "output_type": "display_data",
          "data": {
            "image/png": "[encoded data removed]",
            "text/plain": [
              "<Figure size 432x288 with 1 Axes>"
            ]
          },
          "metadata": {
            "tags": [],
            "needs_background": "light"
          }
        }
      ]
    },
    {
      "cell_type": "code",
      "metadata": {
        "colab": {
          "base_uri": "https://localhost:8080/",
          "height": 660
        },
        "id": "IJbIQSYcNBdn",
        "outputId": "cf042a2d-d89e-447d-f8e7-b806bda4e3ee"
      },
      "source": [
        "plt.figure(figsize=(15,10))\r\n",
        "plt.tight_layout()\r\n",
        "seaborn.distplot(dataset['MaxTemp'])\r\n",
        "plt.show()"
      ],
      "execution_count": null,
      "outputs": [
        {
          "output_type": "stream",
          "text": [
            "/usr/local/lib/python3.6/dist-packages/seaborn/distributions.py:2557: FutureWarning: `distplot` is a deprecated function and will be removed in a future version. Please adapt your code to use either `displot` (a figure-level function with similar flexibility) or `histplot` (an axes-level function for histograms).\n",
            "  warnings.warn(msg, FutureWarning)\n"
          ],
          "name": "stderr"
        },
        {
          "output_type": "display_data",
          "data": {
            "image/png": "[encoded data removed]",
            "text/plain": [
              "<Figure size 1080x720 with 1 Axes>"
            ]
          },
          "metadata": {
            "tags": [],
            "needs_background": "light"
          }
        }
      ]
    },
    {
      "cell_type": "code",
      "metadata": {
        "id": "tYL_fNcAND7R"
      },
      "source": [
        "X= dataset['MinTemp'].values.reshape(-1,1)\r\n",
        "y= dataset['MaxTemp'].values.reshape(-1,1)\r\n",
        "X_train,X_test,y_train,y_test = train_test_split(X,y,test_size=0.25, random_state=0)"
      ],
      "execution_count": null,
      "outputs": []
    },
    {
      "cell_type": "code",
      "metadata": {
        "colab": {
          "base_uri": "https://localhost:8080/"
        },
        "id": "QCKLhpysNF_l",
        "outputId": "e6d28c78-1127-41ae-f311-576c05c7fe2e"
      },
      "source": [
        "model =LinearRegression()\r\n",
        "model.fit(X_train,y_train)"
      ],
      "execution_count": null,
      "outputs": [
        {
          "output_type": "execute_result",
          "data": {
            "text/plain": [
              "LinearRegression(copy_X=True, fit_intercept=True, n_jobs=None, normalize=False)"
            ]
          },
          "metadata": {
            "tags": []
          },
          "execution_count": 43
        }
      ]
    },
    {
      "cell_type": "code",
      "metadata": {
        "colab": {
          "base_uri": "https://localhost:8080/"
        },
        "id": "cWOwtt70NH4g",
        "outputId": "2b4e4d5d-6d97-45c0-ad11-9a27063e16d8"
      },
      "source": [
        "print('Intercept is :',model.intercept_)"
      ],
      "execution_count": null,
      "outputs": [
        {
          "output_type": "stream",
          "text": [
            "Intercept is : [14.56498854]\n"
          ],
          "name": "stdout"
        }
      ]
    },
    {
      "cell_type": "code",
      "metadata": {
        "colab": {
          "base_uri": "https://localhost:8080/"
        },
        "id": "-SgRSdfLNJiH",
        "outputId": "ec60898b-56a5-4c8b-b775-71b73387c46c"
      },
      "source": [
        "print('Coefficient is :' ,model.coef_)"
      ],
      "execution_count": null,
      "outputs": [
        {
          "output_type": "stream",
          "text": [
            "Coefficient is : [[0.83637391]]\n"
          ],
          "name": "stdout"
        }
      ]
    },
    {
      "cell_type": "code",
      "metadata": {
        "id": "5s--jbMrNLIf"
      },
      "source": [
        "y_pred= model.predict(X_test)"
      ],
      "execution_count": null,
      "outputs": []
    },
    {
      "cell_type": "code",
      "metadata": {
        "colab": {
          "base_uri": "https://localhost:8080/"
        },
        "id": "UmyIyDzYNM0K",
        "outputId": "39216fe2-3adf-4d7c-a129-cb6854e1d78c"
      },
      "source": [
        "score = model.score(X_train,y_train)\r\n",
        "print(\"Accuracy is:\", score, \"%\")"
      ],
      "execution_count": null,
      "outputs": [
        {
          "output_type": "stream",
          "text": [
            "Accuracy is: 0.5538211963581995 %\n"
          ],
          "name": "stdout"
        }
      ]
    },
    {
      "cell_type": "code",
      "metadata": {
        "colab": {
          "base_uri": "https://localhost:8080/"
        },
        "id": "Rkw33uSONcU4",
        "outputId": "433d1d31-c129-4f19-bc83-27e61b9dc21b"
      },
      "source": [
        "df=  pd.DataFrame({'Actual': y_test.flatten(), 'Predicted': y_pred.flatten()})\r\n",
        "print(df)"
      ],
      "execution_count": null,
      "outputs": [
        {
          "output_type": "stream",
          "text": [
            "    Actual  Predicted\n",
            "0     25.2  23.597827\n",
            "1     11.5  13.059516\n",
            "2     21.1  27.528784\n",
            "3     22.2  25.688762\n",
            "4     20.4  27.194235\n",
            "..     ...        ...\n",
            "87    14.8  15.568637\n",
            "88     9.7  12.641329\n",
            "89    12.5  17.157748\n",
            "90    14.2  17.659572\n",
            "91    18.5  25.270575\n",
            "\n",
            "[92 rows x 2 columns]\n"
          ],
          "name": "stdout"
        }
      ]
    },
    {
      "cell_type": "code",
      "metadata": {
        "colab": {
          "base_uri": "https://localhost:8080/",
          "height": 594
        },
        "id": "wTJLiXiHNOye",
        "outputId": "f6801544-fdcf-4bed-9d1b-c28eb2354f32"
      },
      "source": [
        "df1= df.head(25)\r\n",
        "df1.plot(kind='bar', figsize=(16,10))\r\n",
        "plt.grid(which='major', linestyle='-',linewidth='0.5', color='green')\r\n",
        "plt.grid(which='minor', linestyle=':',linewidth='0.5', color='black')\r\n",
        "plt.show()\r\n",
        "\r\n"
      ],
      "execution_count": null,
      "outputs": [
        {
          "output_type": "display_data",
          "data": {
            "image/png": "[encoded data removed]",
            "text/plain": [
              "<Figure size 1152x720 with 1 Axes>"
            ]
          },
          "metadata": {
            "tags": [],
            "needs_background": "light"
          }
        }
      ]
    },
    {
      "cell_type": "code",
      "metadata": {
        "colab": {
          "base_uri": "https://localhost:8080/",
          "height": 265
        },
        "id": "0kazi0sYNXqS",
        "outputId": "df9c35f2-82d3-479e-d331-63b85e02a718"
      },
      "source": [
        "plt.scatter(X_test,y_test,color='gray')\r\n",
        "plt.plot(X_test,y_pred,color='red',linewidth=2)\r\n",
        "plt.show()\r\n"
      ],
      "execution_count": null,
      "outputs": [
        {
          "output_type": "display_data",
          "data": {
            "image/png": "[encoded data removed]",
            "text/plain": [
              "<Figure size 432x288 with 1 Axes>"
            ]
          },
          "metadata": {
            "tags": [],
            "needs_background": "light"
          }
        }
      ]
    },
    {
      "cell_type": "code",
      "metadata": {
        "colab": {
          "base_uri": "https://localhost:8080/"
        },
        "id": "1Qh1RwiCNfrW",
        "outputId": "2b1a83eb-49f5-498f-8e81-e2ee7d9685f8"
      },
      "source": [
        "print('Mean abolute error is:', metrics.mean_absolute_error(y_test,y_pred))\r\n",
        "print('Mean squared error is:', metrics.mean_squared_error(y_test,y_pred))\r\n",
        "print('Root mean squared error is:', np.sqrt(metrics.mean_squared_error(y_test,y_pred)))"
      ],
      "execution_count": null,
      "outputs": [
        {
          "output_type": "stream",
          "text": [
            "Mean abolute error is: 3.5720932501523985\n",
            "Mean squared error is: 17.68167513150456\n",
            "Root mean squared error is: 4.204958398308426\n"
          ],
          "name": "stdout"
        }
      ]
    },
    {
      "cell_type": "code",
      "metadata": {
        "id": "HCyw-bOaNheH"
      },
      "source": [
        ""
      ],
      "execution_count": null,
      "outputs": []
    }
  ]
}

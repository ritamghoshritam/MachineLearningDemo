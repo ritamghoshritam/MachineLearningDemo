{
  "nbformat": 4,
  "nbformat_minor": 0,
  "metadata": {
    "colab": {
      "name": "Linear_regression.ipynb",
      "provenance": [],
      "collapsed_sections": [],
      "include_colab_link": true
    },
    "kernelspec": {
      "name": "python3",
      "display_name": "Python 3"
    }
  },
  "cells": [
    {
      "cell_type": "markdown",
      "metadata": {
        "id": "view-in-github",
        "colab_type": "text"
      },
      "source": [
        "<a href=\"https://colab.research.google.com/github/ritamghoshritam/MachineLearningDemo/blob/main/Linear_regression.ipynb\" target=\"_parent\"><img src=\"https://colab.research.google.com/assets/colab-badge.svg\" alt=\"Open In Colab\"/></a>"
      ]
    },
    {
      "cell_type": "code",
      "metadata": {
        "id": "OrJf2foYdJPF"
      },
      "source": [
        "import matplotlib.pylab as plt\r\n",
        "import numpy as np\r\n",
        "%matplotlib inline\r\n",
        "from sklearn.linear_model import LinearRegression"
      ],
      "execution_count": 10,
      "outputs": []
    },
    {
      "cell_type": "code",
      "metadata": {
        "colab": {
          "base_uri": "https://localhost:8080/",
          "height": 265
        },
        "id": "_zMNYjJ3TrzL",
        "outputId": "f4a02e64-5e85-4631-b83c-a94bea79b25f"
      },
      "source": [
        "import pandas as pd\r\n",
        "data1=[2000,2001,2002,2003,2004,2005,2006,2007,2008,2009]\r\n",
        "data2=[10350,13500,14980,16890,15998,18966,20970,24190,29860,35060]\r\n",
        "df = pd.DataFrame (list(zip(data1,data2)), columns = ['Year', 'Accidents'])\r\n",
        "plt.scatter(df.Year,df.Accidents)\r\n",
        "plt.show()"
      ],
      "execution_count": 11,
      "outputs": [
        {
          "output_type": "display_data",
          "data": {
            "image/png": "[encoded data removed]",
            "text/plain": [
              "<Figure size 432x288 with 1 Axes>"
            ]
          },
          "metadata": {
            "tags": [],
            "needs_background": "light"
          }
        }
      ]
    },
    {
      "cell_type": "code",
      "metadata": {
        "id": "ydpnfePfVppa"
      },
      "source": [
        "year=pd.DataFrame(df.Year)\r\n",
        "Accident=pd.DataFrame(df.Accidents)"
      ],
      "execution_count": 16,
      "outputs": []
    },
    {
      "cell_type": "code",
      "metadata": {
        "colab": {
          "base_uri": "https://localhost:8080/"
        },
        "id": "C8Jux5x6WNLL",
        "outputId": "9005b4b0-4a96-453d-93c5-85de4d046a14"
      },
      "source": [
        "model=LinearRegression()\r\n",
        "#model.fit(df.Year,df.Accidents)\r\n",
        "model.fit(year,Accident)"
      ],
      "execution_count": 17,
      "outputs": [
        {
          "output_type": "execute_result",
          "data": {
            "text/plain": [
              "LinearRegression(copy_X=True, fit_intercept=True, n_jobs=None, normalize=False)"
            ]
          },
          "metadata": {
            "tags": []
          },
          "execution_count": 17
        }
      ]
    },
    {
      "cell_type": "code",
      "metadata": {
        "colab": {
          "base_uri": "https://localhost:8080/"
        },
        "id": "G6xHoR2_iBV-",
        "outputId": "05790ba8-27ed-4e58-962e-618702c166d6"
      },
      "source": [
        "model.score(year,Accident)"
      ],
      "execution_count": 18,
      "outputs": [
        {
          "output_type": "execute_result",
          "data": {
            "text/plain": [
              "0.9068039000368932"
            ]
          },
          "metadata": {
            "tags": []
          },
          "execution_count": 18
        }
      ]
    },
    {
      "cell_type": "code",
      "metadata": {
        "colab": {
          "base_uri": "https://localhost:8080/"
        },
        "id": "hTeP3Y41iHc5",
        "outputId": "a53579f9-f7e5-493f-c16e-c8dc1239f52d"
      },
      "source": [
        "new_year=int(input(\"Enter the year...\"))\r\n",
        "ny=np.array(new_year).reshape(1,-1)\r\n",
        "accident_predict=model.predict(ny)\r\n",
        "int(accident_predict)"
      ],
      "execution_count": 19,
      "outputs": [
        {
          "output_type": "stream",
          "text": [
            "Enter the year...2006\n"
          ],
          "name": "stdout"
        },
        {
          "output_type": "execute_result",
          "data": {
            "text/plain": [
              "23696"
            ]
          },
          "metadata": {
            "tags": []
          },
          "execution_count": 19
        }
      ]
    },
    {
      "cell_type": "code",
      "metadata": {
        "colab": {
          "base_uri": "https://localhost:8080/",
          "height": 295
        },
        "id": "HfZXPYJWigYR",
        "outputId": "d4becc07-563d-4283-a8d9-13c139152e4e"
      },
      "source": [
        "plt.plot(year,Accident)\r\n",
        "plt.plot(ny,model.predict(ny),color='red',linewidth=5)\r\n",
        "plt.scatter(year,Accident)\r\n",
        "plt.title('Year vs Accident')\r\n",
        "plt.xlabel('Years')\r\n",
        "plt.ylabel('Accidents per year')\r\n",
        "plt.show()\r\n",
        "plt.show()\r\n"
      ],
      "execution_count": 28,
      "outputs": [
        {
          "output_type": "display_data",
          "data": {
            "image/png": "[encoded data removed]",
            "text/plain": [
              "<Figure size 432x288 with 1 Axes>"
            ]
          },
          "metadata": {
            "tags": [],
            "needs_background": "light"
          }
        }
      ]
    },
    {
      "cell_type": "code",
      "metadata": {
        "id": "kmgRXFj7pjmJ",
        "colab": {
          "base_uri": "https://localhost:8080/",
          "height": 295
        },
        "outputId": "c2bc5ebf-b2b6-4de3-830d-6ed2327cd346"
      },
      "source": [
        "plt.plot(year, Accident, 0)\r\n",
        "#m, b = np.polyfit(year, Accident, 1)\r\n",
        "#plt.plot(x, m*x + b)\r\n",
        "plt.plot(ny,model.predict(ny),color='red',linewidth=5)\r\n",
        "plt.scatter(year,Accident)\r\n",
        "plt.title('Year vs Accident')\r\n",
        "plt.xlabel('Years')\r\n",
        "plt.ylabel('Accidents per year')\r\n",
        "plt.show()\r\n",
        "plt.show()\r\n"
      ],
      "execution_count": 45,
      "outputs": [
        {
          "output_type": "display_data",
          "data": {
            "image/png": "[encoded data removed]",
            "text/plain": [
              "<Figure size 432x288 with 1 Axes>"
            ]
          },
          "metadata": {
            "tags": [],
            "needs_background": "light"
          }
        }
      ]
    },
    {
      "cell_type": "code",
      "metadata": {
        "colab": {
          "base_uri": "https://localhost:8080/",
          "height": 312
        },
        "id": "GuerJ3KysWop",
        "outputId": "a7147840-6a89-4211-ddaa-2c8e6347ba62"
      },
      "source": [
        "import matplotlib.pylab as plt\r\n",
        "import numpy as np\r\n",
        "%matplotlib inline\r\n",
        "from sklearn.linear_model import LinearRegression\r\n",
        "x = np.array([2000,2001,2002,2003,2004,2005,2006,2007,2008,2009])\r\n",
        "y = np.array([10350,13500,14980,16890,15998,18966,20970,24190,29860,35060])\r\n",
        "plt.plot(x, y, 'o')\r\n",
        "plt.title('Year vs Accident')\r\n",
        "plt.xlabel('Years')\r\n",
        "plt.ylabel('Accidents per year')\r\n",
        "m, b = np.polyfit(x, y, 1)\r\n",
        "plt.plot(x, m*x + b)"
      ],
      "execution_count": 53,
      "outputs": [
        {
          "output_type": "execute_result",
          "data": {
            "text/plain": [
              "[<matplotlib.lines.Line2D at 0x7f77df0abba8>]"
            ]
          },
          "metadata": {
            "tags": []
          },
          "execution_count": 53
        },
        {
          "output_type": "display_data",
          "data": {
            "image/png": "[encoded data removed]",
            "text/plain": [
              "<Figure size 432x288 with 1 Axes>"
            ]
          },
          "metadata": {
            "tags": [],
            "needs_background": "light"
          }
        }
      ]
    }
  ]
}